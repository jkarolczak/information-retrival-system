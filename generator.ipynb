{
 "cells": [
  {
   "cell_type": "markdown",
   "metadata": {},
   "source": [
    "# 0. Imports\n",
    "In this notebook I will use tools provided in the following Python libraries:\n",
    "|__Library__                                                                |__Used tools__                                                         |Section                                    |\n",
    "|---------------------------------------------------------------------------|-----------------------------------------------------------------------|-------------------------------------------|\n",
    "|[`json`](https://docs.python.org/3/library/json.html)                      |parsing configuration                                                  |I. Scrapping                               |           \n",
    "|[`bs4` (BeautifulSoup4)](https://www.crummy.com/software/BeautifulSoup/)   |parsing HTML documents, to extract paragraphs' content into strings    |I. Scrapping                               |\n",
    "|[`re`](https://docs.python.org/3/library/re.html)                          |extracting wikipedia links in scrapper                                 |I. Scrapping                               |\n",
    "|[`requests`](https://docs.python-requests.org/en/latest/)                  |request HTML documents to extract content from                         |I. Scrapping                               |\n",
    "|[`nltk`](https://www.nltk.org/)                                            |tokenization, stemming and lemmatization                               |II. Stemming, lematization                 |\n",
    "|[`cloudpickle`](https://github.com/cloudpipe/cloudpickle)                  |tfidf trannsformer serialization to reuse in recommender               |III. Vectorization to TF-IDF               |\n",
    "|[`sklearn` (scikit-learn)](https://scikit-learn.org/stable/index.html)     |text vectorization                                                     |III. Vectorization to TF-IDF               |\n",
    "|[`matplotlib`](https://matplotlib.org/)                                    |plotting statistics                                                    |IV. Database statistics                    |\n",
    "\n",
    "Additionaly there is import of a function, namely `get_text`, that is used in both `generator.ipynb` and `recommender.ipynb`. To avoid redundancy in code it is defined in external file `src/common.py`."
   ]
  },
  {
   "cell_type": "code",
   "execution_count": 1,
   "metadata": {},
   "outputs": [],
   "source": [
    "import json\n",
    "import re\n",
    "from typing import List\n",
    "\n",
    "import bs4\n",
    "import cloudpickle as pickle\n",
    "import matplotlib.pyplot as plt\n",
    "import nltk\n",
    "import pandas as pd\n",
    "import requests\n",
    "from sklearn.feature_extraction.text import CountVectorizer, TfidfVectorizer\n",
    "\n",
    "from src.common import get_text"
   ]
  },
  {
   "cell_type": "markdown",
   "metadata": {},
   "source": [
    "# I. Scrapping"
   ]
  },
  {
   "cell_type": "markdown",
   "metadata": {},
   "source": [
    "This file can be easily converted into vanilla python script. It's a notebook just for the sake of explainability, to describe intermediate steps. To provide such a functionality, this script is parametrized using `config.json` file. The JSON should follow the structure:\n",
    "- `url` - string representation of link to a wikipedia page to be used as an scrapper origin.\n",
    "- `collection_size` - integer describing how big should be the scrapped origin.\n",
    "- `blacklist` - list of terms to filter out. If a scrapped link contains at least one of terms in the blacklist, then the page will not be visited. This list has been created to avoid visiting links not related with the content (for instance suggestions for help)."
   ]
  },
  {
   "cell_type": "code",
   "execution_count": 2,
   "metadata": {},
   "outputs": [
    {
     "data": {
      "text/plain": [
       "{'url': 'https://en.wikipedia.org/wiki/Information_retrieval',\n",
       " 'collection_size': 1000,\n",
       " 'blacklist': ['Special:',\n",
       "  'Template:',\n",
       "  'Help:',\n",
       "  'Category:',\n",
       "  'Wikipedia:',\n",
       "  'File:',\n",
       "  'Portal:',\n",
       "  '(identifier)',\n",
       "  'MediaWiki:',\n",
       "  'Wikipedia_talk:',\n",
       "  'Template_talk:',\n",
       "  'User_talk:',\n",
       "  'User:',\n",
       "  'Talk:']}"
      ]
     },
     "execution_count": 2,
     "metadata": {},
     "output_type": "execute_result"
    }
   ],
   "source": [
    "with open('config.json', 'r') as fp:\n",
    "    config = json.load(fp)\n",
    "    \n",
    "blacklist = set(config['blacklist'])\n",
    "config"
   ]
  },
  {
   "cell_type": "markdown",
   "metadata": {},
   "source": [
    "Function to scrap links to wikipedia articles. It doesn't require any argument, because all values are read from JSON config file. Links to visit are obtained using Breadth First Search algorithm."
   ]
  },
  {
   "cell_type": "code",
   "execution_count": 3,
   "metadata": {},
   "outputs": [],
   "source": [
    "def bfs() -> List:\n",
    "    link = config['url'].lower()\n",
    "    visited = []\n",
    "    response = requests.get(link)\n",
    "    parsed = bs4.BeautifulSoup(response.text)\n",
    "    links = parsed.find_all('a', attrs={'href': re.compile(r'^/wiki')})\n",
    "    while links and len(visited) < config['collection_size']:\n",
    "        link = links.pop(0)['href'].lower()\n",
    "        if link not in visited and not any(map(link.__contains__, blacklist)):\n",
    "            visited.append(link)\n",
    "            response = requests.get('https://en.wikipedia.com' + link)\n",
    "            parsed = bs4.BeautifulSoup(response.text)\n",
    "            links.extend(parsed.find_all('a', attrs={'href': re.compile(r'^/wiki')})) \n",
    "    return visited        "
   ]
  },
  {
   "cell_type": "markdown",
   "metadata": {},
   "source": [
    "Get links to scrap."
   ]
  },
  {
   "cell_type": "code",
   "execution_count": 4,
   "metadata": {},
   "outputs": [],
   "source": [
    "links = bfs()"
   ]
  },
  {
   "cell_type": "markdown",
   "metadata": {},
   "source": [
    "Get text from links obtained in the cell above. `get_text` is declared in file `src/common.py` to make it usable in this notebook and recommender as well."
   ]
  },
  {
   "cell_type": "code",
   "execution_count": 5,
   "metadata": {},
   "outputs": [],
   "source": [
    "documents = [get_text('https://en.wikipedia.com' + l) for l in links]"
   ]
  },
  {
   "cell_type": "markdown",
   "metadata": {},
   "source": [
    "Implementation correctness proof"
   ]
  },
  {
   "cell_type": "code",
   "execution_count": 6,
   "metadata": {},
   "outputs": [
    {
     "name": "stdout",
     "output_type": "stream",
     "text": [
      "1000\n",
      "In text retrieval, full-text search, sometimes referred to as free-text-search refers to techniques for searching a single computer-stored document or a collection in a full-text database. Full-text search is distinguished from searches based on metadata or on parts of the original texts represented in databases (such as titles, abstracts, selected sections, or bibliographical references).In a full-text search, a search engine examines all of the words in every stored document as it tries to match search criteria (for example, text specified by a user). Full-text-searching techniques became common in online bibliographic databases in the 1990s.[verification needed] Many websites and application programs (such as word processing software) provide full-text-search capabilities. Some web search engines, such as AltaVista, employ full-text-search techniques, while others index only a portion of the web pages examined by their indexing systems.[1]When dealing with a small number of document ...\n"
     ]
    }
   ],
   "source": [
    "print(len(documents))\n",
    "print(f\"{documents[0][:1000]} ...\")"
   ]
  },
  {
   "cell_type": "markdown",
   "metadata": {},
   "source": [
    "# II. Stemming, lematization"
   ]
  },
  {
   "cell_type": "code",
   "execution_count": 7,
   "metadata": {},
   "outputs": [],
   "source": [
    "porter = nltk.PorterStemmer()\n",
    "wordnet = nltk.WordNetLemmatizer()"
   ]
  },
  {
   "cell_type": "markdown",
   "metadata": {},
   "source": [
    "Tokenization"
   ]
  },
  {
   "cell_type": "code",
   "execution_count": 8,
   "metadata": {},
   "outputs": [],
   "source": [
    "tokens = [nltk.tokenize.wordpunct_tokenize(doc) for doc in documents]"
   ]
  },
  {
   "cell_type": "markdown",
   "metadata": {},
   "source": [
    "Removing non alpha tokens"
   ]
  },
  {
   "cell_type": "code",
   "execution_count": 9,
   "metadata": {},
   "outputs": [],
   "source": [
    "tokens = [[token for token in doc if token.isalpha()] for doc in tokens]"
   ]
  },
  {
   "cell_type": "markdown",
   "metadata": {},
   "source": [
    "Removing stopwords"
   ]
  },
  {
   "cell_type": "code",
   "execution_count": 10,
   "metadata": {},
   "outputs": [],
   "source": [
    "stopwords = set(nltk.corpus.stopwords.words('english'))\n",
    "tokens = [[token for token in doc if token not in stopwords] for doc in tokens]"
   ]
  },
  {
   "cell_type": "markdown",
   "metadata": {},
   "source": [
    "Stemming"
   ]
  },
  {
   "cell_type": "code",
   "execution_count": 11,
   "metadata": {},
   "outputs": [],
   "source": [
    "stemms = [[porter.stem(token) for token in doc] for doc in tokens]\n"
   ]
  },
  {
   "cell_type": "markdown",
   "metadata": {},
   "source": [
    "Lematization"
   ]
  },
  {
   "cell_type": "code",
   "execution_count": 12,
   "metadata": {},
   "outputs": [],
   "source": [
    "lemmas = [[wordnet.lemmatize(token) for token in doc] for doc in stemms]\n"
   ]
  },
  {
   "cell_type": "markdown",
   "metadata": {},
   "source": [
    "Implementation correctness proof"
   ]
  },
  {
   "cell_type": "code",
   "execution_count": 13,
   "metadata": {},
   "outputs": [
    {
     "name": "stdout",
     "output_type": "stream",
     "text": [
      "1000\n",
      "['in', 'text', 'retriev', 'full', 'text', 'search', 'sometim', 'refer', 'free', 'text', 'search', 'refer', 'techniqu', 'search', 'singl', 'comput', 'store', 'document', 'collect', 'full', 'text', 'databas', 'full', 'text', 'search', 'distinguish', 'search', 'base', 'metadata', 'part', 'origin', 'text', 'repres', 'databas', 'titl', 'abstract', 'select', 'section', 'bibliograph', 'refer', 'in', 'full', 'text', 'search', 'search', 'engin', 'examin', 'word', 'everi', 'store', 'document', 'tri', 'match', 'search', 'criterion', 'exampl', 'text', 'specifi', 'user', 'full', 'text', 'search', 'techniqu', 'becam', 'common', 'onlin', 'bibliograph', 'databas', 'verif', 'need', 'mani', 'websit', 'applic', 'program', 'word', 'process', 'softwar', 'provid', 'full', 'text', 'search', 'capabl', 'some', 'web', 'search', 'engin', 'altavista', 'employ', 'full', 'text', 'search', 'techniqu', 'other', 'index', 'portion', 'web', 'page', 'examin', 'index', 'system'] ...\n"
     ]
    }
   ],
   "source": [
    "print(len(lemmas))\n",
    "print(lemmas[0][:100], '...')"
   ]
  },
  {
   "cell_type": "markdown",
   "metadata": {},
   "source": [
    "# III. Vectorization to TF-IDF"
   ]
  },
  {
   "cell_type": "markdown",
   "metadata": {},
   "source": [
    "Creating object converting collection of documents from section II. to TF-IDF representation."
   ]
  },
  {
   "cell_type": "code",
   "execution_count": 14,
   "metadata": {},
   "outputs": [],
   "source": [
    "tfidf_transformer = TfidfVectorizer(tokenizer=lambda x: x, lowercase=None)"
   ]
  },
  {
   "cell_type": "markdown",
   "metadata": {},
   "source": [
    "Fitting transformer (to use later on to transform queries) and computing TF-IDF for the collection (to use as a databse for queries)."
   ]
  },
  {
   "cell_type": "code",
   "execution_count": 15,
   "metadata": {},
   "outputs": [],
   "source": [
    "tfidf = tfidf_transformer.fit_transform(lemmas)"
   ]
  },
  {
   "cell_type": "markdown",
   "metadata": {},
   "source": [
    "Serialize TF-IDF transformer to use it in recommender. Use `cloudpickle` instead of using standard `pickle`, because `pickle` doesn't support serializing lambda expressions, which the object requires, because I use custom tokenizer."
   ]
  },
  {
   "cell_type": "code",
   "execution_count": 16,
   "metadata": {},
   "outputs": [],
   "source": [
    "with open('./src/tfidf.pkl', 'wb') as fp:\n",
    "    pickle.dump(tfidf_transformer, fp)"
   ]
  },
  {
   "cell_type": "markdown",
   "metadata": {},
   "source": [
    "Store TF-IDF with links as `pandas.DataFrame`."
   ]
  },
  {
   "cell_type": "code",
   "execution_count": 17,
   "metadata": {},
   "outputs": [],
   "source": [
    "df = pd.DataFrame.sparse.from_spmatrix(tfidf)\n",
    "df.index = links"
   ]
  },
  {
   "cell_type": "markdown",
   "metadata": {},
   "source": [
    "Saving dataframe with TF-IDF representation in comma-separated values file."
   ]
  },
  {
   "cell_type": "code",
   "execution_count": 18,
   "metadata": {},
   "outputs": [],
   "source": [
    "df.to_csv('./src/database.csv')"
   ]
  },
  {
   "cell_type": "markdown",
   "metadata": {},
   "source": [
    "Implementation correctness proof"
   ]
  },
  {
   "cell_type": "code",
   "execution_count": 19,
   "metadata": {},
   "outputs": [
    {
     "name": "stdout",
     "output_type": "stream",
     "text": [
      "(1000, 30485)\n"
     ]
    },
    {
     "data": {
      "text/html": [
       "<div>\n",
       "<style scoped>\n",
       "    .dataframe tbody tr th:only-of-type {\n",
       "        vertical-align: middle;\n",
       "    }\n",
       "\n",
       "    .dataframe tbody tr th {\n",
       "        vertical-align: top;\n",
       "    }\n",
       "\n",
       "    .dataframe thead th {\n",
       "        text-align: right;\n",
       "    }\n",
       "</style>\n",
       "<table border=\"1\" class=\"dataframe\">\n",
       "  <thead>\n",
       "    <tr style=\"text-align: right;\">\n",
       "      <th></th>\n",
       "      <th>0</th>\n",
       "      <th>1</th>\n",
       "      <th>2</th>\n",
       "      <th>3</th>\n",
       "      <th>4</th>\n",
       "      <th>5</th>\n",
       "      <th>6</th>\n",
       "      <th>7</th>\n",
       "      <th>8</th>\n",
       "      <th>9</th>\n",
       "      <th>...</th>\n",
       "      <th>30475</th>\n",
       "      <th>30476</th>\n",
       "      <th>30477</th>\n",
       "      <th>30478</th>\n",
       "      <th>30479</th>\n",
       "      <th>30480</th>\n",
       "      <th>30481</th>\n",
       "      <th>30482</th>\n",
       "      <th>30483</th>\n",
       "      <th>30484</th>\n",
       "    </tr>\n",
       "  </thead>\n",
       "  <tbody>\n",
       "    <tr>\n",
       "      <th>/wiki/full-text_search</th>\n",
       "      <td>0.000000</td>\n",
       "      <td>0.0</td>\n",
       "      <td>0.0</td>\n",
       "      <td>0.0</td>\n",
       "      <td>0.0</td>\n",
       "      <td>0.0</td>\n",
       "      <td>0.0</td>\n",
       "      <td>0.0</td>\n",
       "      <td>0.0</td>\n",
       "      <td>0.0</td>\n",
       "      <td>...</td>\n",
       "      <td>0.0</td>\n",
       "      <td>0.0</td>\n",
       "      <td>0.0</td>\n",
       "      <td>0.0</td>\n",
       "      <td>0.0</td>\n",
       "      <td>0.0</td>\n",
       "      <td>0.0</td>\n",
       "      <td>0.0</td>\n",
       "      <td>0.0</td>\n",
       "      <td>0.0</td>\n",
       "    </tr>\n",
       "    <tr>\n",
       "      <th>/wiki/wikipedia:merging</th>\n",
       "      <td>0.018140</td>\n",
       "      <td>0.0</td>\n",
       "      <td>0.0</td>\n",
       "      <td>0.0</td>\n",
       "      <td>0.0</td>\n",
       "      <td>0.0</td>\n",
       "      <td>0.0</td>\n",
       "      <td>0.0</td>\n",
       "      <td>0.0</td>\n",
       "      <td>0.0</td>\n",
       "      <td>...</td>\n",
       "      <td>0.0</td>\n",
       "      <td>0.0</td>\n",
       "      <td>0.0</td>\n",
       "      <td>0.0</td>\n",
       "      <td>0.0</td>\n",
       "      <td>0.0</td>\n",
       "      <td>0.0</td>\n",
       "      <td>0.0</td>\n",
       "      <td>0.0</td>\n",
       "      <td>0.0</td>\n",
       "    </tr>\n",
       "    <tr>\n",
       "      <th>/wiki/talk:full-text_search#merge_with_information_retrieval</th>\n",
       "      <td>0.000000</td>\n",
       "      <td>0.0</td>\n",
       "      <td>0.0</td>\n",
       "      <td>0.0</td>\n",
       "      <td>0.0</td>\n",
       "      <td>0.0</td>\n",
       "      <td>0.0</td>\n",
       "      <td>0.0</td>\n",
       "      <td>0.0</td>\n",
       "      <td>0.0</td>\n",
       "      <td>...</td>\n",
       "      <td>0.0</td>\n",
       "      <td>0.0</td>\n",
       "      <td>0.0</td>\n",
       "      <td>0.0</td>\n",
       "      <td>0.0</td>\n",
       "      <td>0.0</td>\n",
       "      <td>0.0</td>\n",
       "      <td>0.0</td>\n",
       "      <td>0.0</td>\n",
       "      <td>0.0</td>\n",
       "    </tr>\n",
       "    <tr>\n",
       "      <th>/wiki/information_science</th>\n",
       "      <td>0.041869</td>\n",
       "      <td>0.0</td>\n",
       "      <td>0.0</td>\n",
       "      <td>0.0</td>\n",
       "      <td>0.0</td>\n",
       "      <td>0.0</td>\n",
       "      <td>0.0</td>\n",
       "      <td>0.0</td>\n",
       "      <td>0.0</td>\n",
       "      <td>0.0</td>\n",
       "      <td>...</td>\n",
       "      <td>0.0</td>\n",
       "      <td>0.0</td>\n",
       "      <td>0.0</td>\n",
       "      <td>0.0</td>\n",
       "      <td>0.0</td>\n",
       "      <td>0.0</td>\n",
       "      <td>0.0</td>\n",
       "      <td>0.0</td>\n",
       "      <td>0.0</td>\n",
       "      <td>0.0</td>\n",
       "    </tr>\n",
       "    <tr>\n",
       "      <th>/wiki/outline_of_information_science</th>\n",
       "      <td>0.052688</td>\n",
       "      <td>0.0</td>\n",
       "      <td>0.0</td>\n",
       "      <td>0.0</td>\n",
       "      <td>0.0</td>\n",
       "      <td>0.0</td>\n",
       "      <td>0.0</td>\n",
       "      <td>0.0</td>\n",
       "      <td>0.0</td>\n",
       "      <td>0.0</td>\n",
       "      <td>...</td>\n",
       "      <td>0.0</td>\n",
       "      <td>0.0</td>\n",
       "      <td>0.0</td>\n",
       "      <td>0.0</td>\n",
       "      <td>0.0</td>\n",
       "      <td>0.0</td>\n",
       "      <td>0.0</td>\n",
       "      <td>0.0</td>\n",
       "      <td>0.0</td>\n",
       "      <td>0.0</td>\n",
       "    </tr>\n",
       "  </tbody>\n",
       "</table>\n",
       "<p>5 rows × 30485 columns</p>\n",
       "</div>"
      ],
      "text/plain": [
       "                                                       0      1      2      \\\n",
       "/wiki/full-text_search                              0.000000    0.0    0.0   \n",
       "/wiki/wikipedia:merging                             0.018140    0.0    0.0   \n",
       "/wiki/talk:full-text_search#merge_with_informat...  0.000000    0.0    0.0   \n",
       "/wiki/information_science                           0.041869    0.0    0.0   \n",
       "/wiki/outline_of_information_science                0.052688    0.0    0.0   \n",
       "\n",
       "                                                    3      4      5      \\\n",
       "/wiki/full-text_search                                0.0    0.0    0.0   \n",
       "/wiki/wikipedia:merging                               0.0    0.0    0.0   \n",
       "/wiki/talk:full-text_search#merge_with_informat...    0.0    0.0    0.0   \n",
       "/wiki/information_science                             0.0    0.0    0.0   \n",
       "/wiki/outline_of_information_science                  0.0    0.0    0.0   \n",
       "\n",
       "                                                    6      7      8      \\\n",
       "/wiki/full-text_search                                0.0    0.0    0.0   \n",
       "/wiki/wikipedia:merging                               0.0    0.0    0.0   \n",
       "/wiki/talk:full-text_search#merge_with_informat...    0.0    0.0    0.0   \n",
       "/wiki/information_science                             0.0    0.0    0.0   \n",
       "/wiki/outline_of_information_science                  0.0    0.0    0.0   \n",
       "\n",
       "                                                    9      ...  30475  30476  \\\n",
       "/wiki/full-text_search                                0.0  ...    0.0    0.0   \n",
       "/wiki/wikipedia:merging                               0.0  ...    0.0    0.0   \n",
       "/wiki/talk:full-text_search#merge_with_informat...    0.0  ...    0.0    0.0   \n",
       "/wiki/information_science                             0.0  ...    0.0    0.0   \n",
       "/wiki/outline_of_information_science                  0.0  ...    0.0    0.0   \n",
       "\n",
       "                                                    30477  30478  30479  \\\n",
       "/wiki/full-text_search                                0.0    0.0    0.0   \n",
       "/wiki/wikipedia:merging                               0.0    0.0    0.0   \n",
       "/wiki/talk:full-text_search#merge_with_informat...    0.0    0.0    0.0   \n",
       "/wiki/information_science                             0.0    0.0    0.0   \n",
       "/wiki/outline_of_information_science                  0.0    0.0    0.0   \n",
       "\n",
       "                                                    30480  30481  30482  \\\n",
       "/wiki/full-text_search                                0.0    0.0    0.0   \n",
       "/wiki/wikipedia:merging                               0.0    0.0    0.0   \n",
       "/wiki/talk:full-text_search#merge_with_informat...    0.0    0.0    0.0   \n",
       "/wiki/information_science                             0.0    0.0    0.0   \n",
       "/wiki/outline_of_information_science                  0.0    0.0    0.0   \n",
       "\n",
       "                                                    30483  30484  \n",
       "/wiki/full-text_search                                0.0    0.0  \n",
       "/wiki/wikipedia:merging                               0.0    0.0  \n",
       "/wiki/talk:full-text_search#merge_with_informat...    0.0    0.0  \n",
       "/wiki/information_science                             0.0    0.0  \n",
       "/wiki/outline_of_information_science                  0.0    0.0  \n",
       "\n",
       "[5 rows x 30485 columns]"
      ]
     },
     "execution_count": 19,
     "metadata": {},
     "output_type": "execute_result"
    }
   ],
   "source": [
    "print(df.shape)\n",
    "df.head()"
   ]
  },
  {
   "cell_type": "markdown",
   "metadata": {},
   "source": [
    "# IV. Database statistics"
   ]
  },
  {
   "cell_type": "code",
   "execution_count": 20,
   "metadata": {},
   "outputs": [
    {
     "data": {
      "text/html": [
       "<div>\n",
       "<style scoped>\n",
       "    .dataframe tbody tr th:only-of-type {\n",
       "        vertical-align: middle;\n",
       "    }\n",
       "\n",
       "    .dataframe tbody tr th {\n",
       "        vertical-align: top;\n",
       "    }\n",
       "\n",
       "    .dataframe thead th {\n",
       "        text-align: right;\n",
       "    }\n",
       "</style>\n",
       "<table border=\"1\" class=\"dataframe\">\n",
       "  <thead>\n",
       "    <tr style=\"text-align: right;\">\n",
       "      <th></th>\n",
       "      <th>0</th>\n",
       "      <th>1</th>\n",
       "      <th>2</th>\n",
       "      <th>3</th>\n",
       "      <th>4</th>\n",
       "      <th>5</th>\n",
       "      <th>6</th>\n",
       "      <th>7</th>\n",
       "      <th>8</th>\n",
       "      <th>9</th>\n",
       "      <th>...</th>\n",
       "      <th>30475</th>\n",
       "      <th>30476</th>\n",
       "      <th>30477</th>\n",
       "      <th>30478</th>\n",
       "      <th>30479</th>\n",
       "      <th>30480</th>\n",
       "      <th>30481</th>\n",
       "      <th>30482</th>\n",
       "      <th>30483</th>\n",
       "      <th>30484</th>\n",
       "    </tr>\n",
       "  </thead>\n",
       "  <tbody>\n",
       "    <tr>\n",
       "      <th>/wiki/full-text_search</th>\n",
       "      <td>0</td>\n",
       "      <td>0</td>\n",
       "      <td>0</td>\n",
       "      <td>0</td>\n",
       "      <td>0</td>\n",
       "      <td>0</td>\n",
       "      <td>0</td>\n",
       "      <td>0</td>\n",
       "      <td>0</td>\n",
       "      <td>0</td>\n",
       "      <td>...</td>\n",
       "      <td>0</td>\n",
       "      <td>0</td>\n",
       "      <td>0</td>\n",
       "      <td>0</td>\n",
       "      <td>0</td>\n",
       "      <td>0</td>\n",
       "      <td>0</td>\n",
       "      <td>0</td>\n",
       "      <td>0</td>\n",
       "      <td>0</td>\n",
       "    </tr>\n",
       "    <tr>\n",
       "      <th>/wiki/wikipedia:merging</th>\n",
       "      <td>3</td>\n",
       "      <td>0</td>\n",
       "      <td>0</td>\n",
       "      <td>0</td>\n",
       "      <td>0</td>\n",
       "      <td>0</td>\n",
       "      <td>0</td>\n",
       "      <td>0</td>\n",
       "      <td>0</td>\n",
       "      <td>0</td>\n",
       "      <td>...</td>\n",
       "      <td>0</td>\n",
       "      <td>0</td>\n",
       "      <td>0</td>\n",
       "      <td>0</td>\n",
       "      <td>0</td>\n",
       "      <td>0</td>\n",
       "      <td>0</td>\n",
       "      <td>0</td>\n",
       "      <td>0</td>\n",
       "      <td>0</td>\n",
       "    </tr>\n",
       "    <tr>\n",
       "      <th>/wiki/talk:full-text_search#merge_with_information_retrieval</th>\n",
       "      <td>0</td>\n",
       "      <td>0</td>\n",
       "      <td>0</td>\n",
       "      <td>0</td>\n",
       "      <td>0</td>\n",
       "      <td>0</td>\n",
       "      <td>0</td>\n",
       "      <td>0</td>\n",
       "      <td>0</td>\n",
       "      <td>0</td>\n",
       "      <td>...</td>\n",
       "      <td>0</td>\n",
       "      <td>0</td>\n",
       "      <td>0</td>\n",
       "      <td>0</td>\n",
       "      <td>0</td>\n",
       "      <td>0</td>\n",
       "      <td>0</td>\n",
       "      <td>0</td>\n",
       "      <td>0</td>\n",
       "      <td>0</td>\n",
       "    </tr>\n",
       "    <tr>\n",
       "      <th>/wiki/information_science</th>\n",
       "      <td>10</td>\n",
       "      <td>0</td>\n",
       "      <td>0</td>\n",
       "      <td>0</td>\n",
       "      <td>0</td>\n",
       "      <td>0</td>\n",
       "      <td>0</td>\n",
       "      <td>0</td>\n",
       "      <td>0</td>\n",
       "      <td>0</td>\n",
       "      <td>...</td>\n",
       "      <td>0</td>\n",
       "      <td>0</td>\n",
       "      <td>0</td>\n",
       "      <td>0</td>\n",
       "      <td>0</td>\n",
       "      <td>0</td>\n",
       "      <td>0</td>\n",
       "      <td>0</td>\n",
       "      <td>0</td>\n",
       "      <td>0</td>\n",
       "    </tr>\n",
       "    <tr>\n",
       "      <th>/wiki/outline_of_information_science</th>\n",
       "      <td>1</td>\n",
       "      <td>0</td>\n",
       "      <td>0</td>\n",
       "      <td>0</td>\n",
       "      <td>0</td>\n",
       "      <td>0</td>\n",
       "      <td>0</td>\n",
       "      <td>0</td>\n",
       "      <td>0</td>\n",
       "      <td>0</td>\n",
       "      <td>...</td>\n",
       "      <td>0</td>\n",
       "      <td>0</td>\n",
       "      <td>0</td>\n",
       "      <td>0</td>\n",
       "      <td>0</td>\n",
       "      <td>0</td>\n",
       "      <td>0</td>\n",
       "      <td>0</td>\n",
       "      <td>0</td>\n",
       "      <td>0</td>\n",
       "    </tr>\n",
       "    <tr>\n",
       "      <th>...</th>\n",
       "      <td>...</td>\n",
       "      <td>...</td>\n",
       "      <td>...</td>\n",
       "      <td>...</td>\n",
       "      <td>...</td>\n",
       "      <td>...</td>\n",
       "      <td>...</td>\n",
       "      <td>...</td>\n",
       "      <td>...</td>\n",
       "      <td>...</td>\n",
       "      <td>...</td>\n",
       "      <td>...</td>\n",
       "      <td>...</td>\n",
       "      <td>...</td>\n",
       "      <td>...</td>\n",
       "      <td>...</td>\n",
       "      <td>...</td>\n",
       "      <td>...</td>\n",
       "      <td>...</td>\n",
       "      <td>...</td>\n",
       "      <td>...</td>\n",
       "    </tr>\n",
       "    <tr>\n",
       "      <th>/wiki/human-computer_interaction</th>\n",
       "      <td>16</td>\n",
       "      <td>0</td>\n",
       "      <td>0</td>\n",
       "      <td>0</td>\n",
       "      <td>0</td>\n",
       "      <td>0</td>\n",
       "      <td>0</td>\n",
       "      <td>0</td>\n",
       "      <td>0</td>\n",
       "      <td>0</td>\n",
       "      <td>...</td>\n",
       "      <td>0</td>\n",
       "      <td>0</td>\n",
       "      <td>0</td>\n",
       "      <td>0</td>\n",
       "      <td>0</td>\n",
       "      <td>0</td>\n",
       "      <td>0</td>\n",
       "      <td>0</td>\n",
       "      <td>0</td>\n",
       "      <td>0</td>\n",
       "    </tr>\n",
       "    <tr>\n",
       "      <th>/wiki/information_ethics</th>\n",
       "      <td>2</td>\n",
       "      <td>0</td>\n",
       "      <td>0</td>\n",
       "      <td>0</td>\n",
       "      <td>0</td>\n",
       "      <td>0</td>\n",
       "      <td>0</td>\n",
       "      <td>0</td>\n",
       "      <td>0</td>\n",
       "      <td>0</td>\n",
       "      <td>...</td>\n",
       "      <td>0</td>\n",
       "      <td>0</td>\n",
       "      <td>0</td>\n",
       "      <td>0</td>\n",
       "      <td>0</td>\n",
       "      <td>0</td>\n",
       "      <td>0</td>\n",
       "      <td>0</td>\n",
       "      <td>0</td>\n",
       "      <td>0</td>\n",
       "    </tr>\n",
       "    <tr>\n",
       "      <th>/wiki/information_literacy</th>\n",
       "      <td>6</td>\n",
       "      <td>0</td>\n",
       "      <td>0</td>\n",
       "      <td>0</td>\n",
       "      <td>0</td>\n",
       "      <td>0</td>\n",
       "      <td>0</td>\n",
       "      <td>0</td>\n",
       "      <td>0</td>\n",
       "      <td>0</td>\n",
       "      <td>...</td>\n",
       "      <td>0</td>\n",
       "      <td>0</td>\n",
       "      <td>0</td>\n",
       "      <td>0</td>\n",
       "      <td>0</td>\n",
       "      <td>0</td>\n",
       "      <td>0</td>\n",
       "      <td>0</td>\n",
       "      <td>0</td>\n",
       "      <td>0</td>\n",
       "    </tr>\n",
       "    <tr>\n",
       "      <th>/wiki/information_seeking_behavior</th>\n",
       "      <td>6</td>\n",
       "      <td>0</td>\n",
       "      <td>0</td>\n",
       "      <td>0</td>\n",
       "      <td>0</td>\n",
       "      <td>0</td>\n",
       "      <td>0</td>\n",
       "      <td>0</td>\n",
       "      <td>0</td>\n",
       "      <td>0</td>\n",
       "      <td>...</td>\n",
       "      <td>0</td>\n",
       "      <td>0</td>\n",
       "      <td>0</td>\n",
       "      <td>0</td>\n",
       "      <td>0</td>\n",
       "      <td>0</td>\n",
       "      <td>0</td>\n",
       "      <td>0</td>\n",
       "      <td>0</td>\n",
       "      <td>0</td>\n",
       "    </tr>\n",
       "    <tr>\n",
       "      <th>/wiki/browsing</th>\n",
       "      <td>2</td>\n",
       "      <td>0</td>\n",
       "      <td>0</td>\n",
       "      <td>0</td>\n",
       "      <td>0</td>\n",
       "      <td>0</td>\n",
       "      <td>0</td>\n",
       "      <td>0</td>\n",
       "      <td>0</td>\n",
       "      <td>0</td>\n",
       "      <td>...</td>\n",
       "      <td>0</td>\n",
       "      <td>0</td>\n",
       "      <td>0</td>\n",
       "      <td>0</td>\n",
       "      <td>0</td>\n",
       "      <td>0</td>\n",
       "      <td>0</td>\n",
       "      <td>0</td>\n",
       "      <td>0</td>\n",
       "      <td>0</td>\n",
       "    </tr>\n",
       "  </tbody>\n",
       "</table>\n",
       "<p>1000 rows × 30485 columns</p>\n",
       "</div>"
      ],
      "text/plain": [
       "                                                    0      1      2      \\\n",
       "/wiki/full-text_search                                  0      0      0   \n",
       "/wiki/wikipedia:merging                                 3      0      0   \n",
       "/wiki/talk:full-text_search#merge_with_informat...      0      0      0   \n",
       "/wiki/information_science                              10      0      0   \n",
       "/wiki/outline_of_information_science                    1      0      0   \n",
       "...                                                   ...    ...    ...   \n",
       "/wiki/human-computer_interaction                       16      0      0   \n",
       "/wiki/information_ethics                                2      0      0   \n",
       "/wiki/information_literacy                              6      0      0   \n",
       "/wiki/information_seeking_behavior                      6      0      0   \n",
       "/wiki/browsing                                          2      0      0   \n",
       "\n",
       "                                                    3      4      5      \\\n",
       "/wiki/full-text_search                                  0      0      0   \n",
       "/wiki/wikipedia:merging                                 0      0      0   \n",
       "/wiki/talk:full-text_search#merge_with_informat...      0      0      0   \n",
       "/wiki/information_science                               0      0      0   \n",
       "/wiki/outline_of_information_science                    0      0      0   \n",
       "...                                                   ...    ...    ...   \n",
       "/wiki/human-computer_interaction                        0      0      0   \n",
       "/wiki/information_ethics                                0      0      0   \n",
       "/wiki/information_literacy                              0      0      0   \n",
       "/wiki/information_seeking_behavior                      0      0      0   \n",
       "/wiki/browsing                                          0      0      0   \n",
       "\n",
       "                                                    6      7      8      \\\n",
       "/wiki/full-text_search                                  0      0      0   \n",
       "/wiki/wikipedia:merging                                 0      0      0   \n",
       "/wiki/talk:full-text_search#merge_with_informat...      0      0      0   \n",
       "/wiki/information_science                               0      0      0   \n",
       "/wiki/outline_of_information_science                    0      0      0   \n",
       "...                                                   ...    ...    ...   \n",
       "/wiki/human-computer_interaction                        0      0      0   \n",
       "/wiki/information_ethics                                0      0      0   \n",
       "/wiki/information_literacy                              0      0      0   \n",
       "/wiki/information_seeking_behavior                      0      0      0   \n",
       "/wiki/browsing                                          0      0      0   \n",
       "\n",
       "                                                    9      ...  30475  30476  \\\n",
       "/wiki/full-text_search                                  0  ...      0      0   \n",
       "/wiki/wikipedia:merging                                 0  ...      0      0   \n",
       "/wiki/talk:full-text_search#merge_with_informat...      0  ...      0      0   \n",
       "/wiki/information_science                               0  ...      0      0   \n",
       "/wiki/outline_of_information_science                    0  ...      0      0   \n",
       "...                                                   ...  ...    ...    ...   \n",
       "/wiki/human-computer_interaction                        0  ...      0      0   \n",
       "/wiki/information_ethics                                0  ...      0      0   \n",
       "/wiki/information_literacy                              0  ...      0      0   \n",
       "/wiki/information_seeking_behavior                      0  ...      0      0   \n",
       "/wiki/browsing                                          0  ...      0      0   \n",
       "\n",
       "                                                    30477  30478  30479  \\\n",
       "/wiki/full-text_search                                  0      0      0   \n",
       "/wiki/wikipedia:merging                                 0      0      0   \n",
       "/wiki/talk:full-text_search#merge_with_informat...      0      0      0   \n",
       "/wiki/information_science                               0      0      0   \n",
       "/wiki/outline_of_information_science                    0      0      0   \n",
       "...                                                   ...    ...    ...   \n",
       "/wiki/human-computer_interaction                        0      0      0   \n",
       "/wiki/information_ethics                                0      0      0   \n",
       "/wiki/information_literacy                              0      0      0   \n",
       "/wiki/information_seeking_behavior                      0      0      0   \n",
       "/wiki/browsing                                          0      0      0   \n",
       "\n",
       "                                                    30480  30481  30482  \\\n",
       "/wiki/full-text_search                                  0      0      0   \n",
       "/wiki/wikipedia:merging                                 0      0      0   \n",
       "/wiki/talk:full-text_search#merge_with_informat...      0      0      0   \n",
       "/wiki/information_science                               0      0      0   \n",
       "/wiki/outline_of_information_science                    0      0      0   \n",
       "...                                                   ...    ...    ...   \n",
       "/wiki/human-computer_interaction                        0      0      0   \n",
       "/wiki/information_ethics                                0      0      0   \n",
       "/wiki/information_literacy                              0      0      0   \n",
       "/wiki/information_seeking_behavior                      0      0      0   \n",
       "/wiki/browsing                                          0      0      0   \n",
       "\n",
       "                                                    30483  30484  \n",
       "/wiki/full-text_search                                  0      0  \n",
       "/wiki/wikipedia:merging                                 0      0  \n",
       "/wiki/talk:full-text_search#merge_with_informat...      0      0  \n",
       "/wiki/information_science                               0      0  \n",
       "/wiki/outline_of_information_science                    0      0  \n",
       "...                                                   ...    ...  \n",
       "/wiki/human-computer_interaction                        0      0  \n",
       "/wiki/information_ethics                                0      0  \n",
       "/wiki/information_literacy                              0      0  \n",
       "/wiki/information_seeking_behavior                      0      0  \n",
       "/wiki/browsing                                          0      0  \n",
       "\n",
       "[1000 rows x 30485 columns]"
      ]
     },
     "execution_count": 20,
     "metadata": {},
     "output_type": "execute_result"
    }
   ],
   "source": [
    "term_dict = {value: key for key, value in tfidf_transformer.vocabulary_.items()}\n",
    "count_vectorizer = CountVectorizer(tokenizer=lambda x: x, lowercase=None)\n",
    "bow = count_vectorizer.fit_transform(lemmas)\n",
    "bow = pd.DataFrame.sparse.from_spmatrix(bow)\n",
    "bow.index = links\n",
    "bow"
   ]
  },
  {
   "cell_type": "markdown",
   "metadata": {},
   "source": [
    "Helper function to simplify displaying bar charts"
   ]
  },
  {
   "cell_type": "code",
   "execution_count": 21,
   "metadata": {},
   "outputs": [],
   "source": [
    "def bar_chart(series: pd.Series, rotation: int = 45) -> None:\n",
    "    _ = plt.figure(figsize=(12, 6))\n",
    "    _ = plt.xticks(rotation=rotation)\n",
    "    _ = plt.bar(series.index, series.values, color='slategray')"
   ]
  },
  {
   "cell_type": "markdown",
   "metadata": {},
   "source": [
    "__Words occuring in the greatest number of documents__<br>\n",
    "count words in all documents without repetitions"
   ]
  },
  {
   "cell_type": "code",
   "execution_count": 22,
   "metadata": {},
   "outputs": [
    {
     "data": {
      "image/png": "[encoded data removed]",
      "text/plain": [
       "<Figure size 864x432 with 1 Axes>"
      ]
     },
     "metadata": {
      "needs_background": "light"
     },
     "output_type": "display_data"
    }
   ],
   "source": [
    "frequent = bow.astype(bool).sum(axis=0).sort_values(ascending=False).head(20)\n",
    "frequent.index = [term_dict[idx] for idx in frequent.index]\n",
    "bar_chart(frequent)"
   ]
  },
  {
   "cell_type": "markdown",
   "metadata": {},
   "source": [
    "__Most frequent words in all documents__ <br>\n",
    "count words in all documents with repetitions"
   ]
  },
  {
   "cell_type": "code",
   "execution_count": 23,
   "metadata": {},
   "outputs": [
    {
     "data": {
      "image/png": "[encoded data removed]",
      "text/plain": [
       "<Figure size 864x432 with 1 Axes>"
      ]
     },
     "metadata": {
      "needs_background": "light"
     },
     "output_type": "display_data"
    }
   ],
   "source": [
    "frequent = bow.sum(axis=0).sort_values(ascending=False).head(20)\n",
    "frequent.index = [term_dict[idx] for idx in frequent.index]\n",
    "bar_chart(frequent)"
   ]
  },
  {
   "cell_type": "markdown",
   "metadata": {},
   "source": [
    "__Documents containing the greatest number of unique words__ <br>\n",
    "(count words in each document without repetitions)"
   ]
  },
  {
   "cell_type": "code",
   "execution_count": 24,
   "metadata": {},
   "outputs": [
    {
     "data": {
      "image/png": "[encoded data removed]",
      "text/plain": [
       "<Figure size 864x432 with 1 Axes>"
      ]
     },
     "metadata": {
      "needs_background": "light"
     },
     "output_type": "display_data"
    }
   ],
   "source": [
    "frequent = bow.astype(bool).sum(axis=1).sort_values(ascending=False).head(20)\n",
    "bar_chart(frequent, 90)"
   ]
  },
  {
   "cell_type": "markdown",
   "metadata": {},
   "source": [
    "__The longest documents__ <br>\n",
    "(count words in each document with repetitions)"
   ]
  },
  {
   "cell_type": "code",
   "execution_count": 25,
   "metadata": {},
   "outputs": [
    {
     "data": {
      "image/png": "[encoded data removed]",
      "text/plain": [
       "<Figure size 864x432 with 1 Axes>"
      ]
     },
     "metadata": {
      "needs_background": "light"
     },
     "output_type": "display_data"
    }
   ],
   "source": [
    "frequent = bow.sum(axis=1).sort_values(ascending=False).head(20)\n",
    "bar_chart(frequent, 90)"
   ]
  }
 ],
 "metadata": {
  "interpreter": {
   "hash": "aaca1eeece14a76051d87d023a5ced5eadd3d2a9e6be4d23eedcaf14ef3c0c52"
  },
  "kernelspec": {
   "display_name": "Python 3.9.7 64-bit ('ir': conda)",
   "language": "python",
   "name": "python3"
  },
  "language_info": {
   "codemirror_mode": {
    "name": "ipython",
    "version": 3
   },
   "file_extension": ".py",
   "mimetype": "text/x-python",
   "name": "python",
   "nbconvert_exporter": "python",
   "pygments_lexer": "ipython3",
   "version": "3.9.7"
  },
  "orig_nbformat": 4
 },
 "nbformat": 4,
 "nbformat_minor": 2
}
